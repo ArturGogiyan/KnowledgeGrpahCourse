{
  "nbformat": 4,
  "nbformat_minor": 0,
  "metadata": {
    "colab": {
      "name": "graphs.ipynb",
      "provenance": [],
      "collapsed_sections": [],
      "toc_visible": true
    },
    "kernelspec": {
      "display_name": "Python 3",
      "name": "python3"
    },
    "language_info": {
      "name": "python"
    }
  },
  "cells": [
    {
      "cell_type": "markdown",
      "metadata": {
        "id": "HlBT07uVa1ug"
      },
      "source": [
        "# Импорт используемых библиотек"
      ]
    },
    {
      "cell_type": "code",
      "metadata": {
        "colab": {
          "base_uri": "https://localhost:8080/"
        },
        "id": "WPVBBfE1OkWG",
        "outputId": "b3083ef2-16b4-46c5-a5f7-c019483b91a9"
      },
      "source": [
        "!pip install rdflib\n",
        "!pip install SPARQLWrapper\n",
        "!apt-get install netbase\n",
        "\n",
        "from rdflib import URIRef, BNode, Literal, Namespace, Graph\n",
        "from rdflib.namespace import RDF, RDFS\n",
        "from SPARQLWrapper import SPARQLWrapper, JSON"
      ],
      "execution_count": 9,
      "outputs": [
        {
          "output_type": "stream",
          "text": [
            "Collecting rdflib\n",
            "\u001b[?25l  Downloading https://files.pythonhosted.org/packages/d0/6b/6454aa1db753c0f8bc265a5bd5c10b5721a4bb24160fb4faf758cf6be8a1/rdflib-5.0.0-py3-none-any.whl (231kB)\n",
            "\u001b[K     |████████████████████████████████| 235kB 8.7MB/s \n",
            "\u001b[?25hRequirement already satisfied: six in /usr/local/lib/python3.7/dist-packages (from rdflib) (1.15.0)\n",
            "Requirement already satisfied: pyparsing in /usr/local/lib/python3.7/dist-packages (from rdflib) (2.4.7)\n",
            "Collecting isodate\n",
            "\u001b[?25l  Downloading https://files.pythonhosted.org/packages/9b/9f/b36f7774ff5ea8e428fdcfc4bb332c39ee5b9362ddd3d40d9516a55221b2/isodate-0.6.0-py2.py3-none-any.whl (45kB)\n",
            "\u001b[K     |████████████████████████████████| 51kB 6.1MB/s \n",
            "\u001b[?25hInstalling collected packages: isodate, rdflib\n",
            "Successfully installed isodate-0.6.0 rdflib-5.0.0\n",
            "Collecting SPARQLWrapper\n",
            "  Downloading https://files.pythonhosted.org/packages/00/9b/443fbe06996c080ee9c1f01b04e2f683b2b07e149905f33a2397ee3b80a2/SPARQLWrapper-1.8.5-py3-none-any.whl\n",
            "Requirement already satisfied: rdflib>=4.0 in /usr/local/lib/python3.7/dist-packages (from SPARQLWrapper) (5.0.0)\n",
            "Requirement already satisfied: pyparsing in /usr/local/lib/python3.7/dist-packages (from rdflib>=4.0->SPARQLWrapper) (2.4.7)\n",
            "Requirement already satisfied: six in /usr/local/lib/python3.7/dist-packages (from rdflib>=4.0->SPARQLWrapper) (1.15.0)\n",
            "Requirement already satisfied: isodate in /usr/local/lib/python3.7/dist-packages (from rdflib>=4.0->SPARQLWrapper) (0.6.0)\n",
            "Installing collected packages: SPARQLWrapper\n",
            "Successfully installed SPARQLWrapper-1.8.5\n",
            "Reading package lists... Done\n",
            "Building dependency tree       \n",
            "Reading state information... Done\n",
            "The following package was automatically installed and is no longer required:\n",
            "  libnvidia-common-460\n",
            "Use 'apt autoremove' to remove it.\n",
            "The following NEW packages will be installed:\n",
            "  netbase\n",
            "0 upgraded, 1 newly installed, 0 to remove and 34 not upgraded.\n",
            "Need to get 12.7 kB of archives.\n",
            "After this operation, 45.1 kB of additional disk space will be used.\n",
            "Get:1 http://archive.ubuntu.com/ubuntu bionic/main amd64 netbase all 5.4 [12.7 kB]\n",
            "Fetched 12.7 kB in 0s (36.4 kB/s)\n",
            "Selecting previously unselected package netbase.\n",
            "(Reading database ... 160706 files and directories currently installed.)\n",
            "Preparing to unpack .../archives/netbase_5.4_all.deb ...\n",
            "Unpacking netbase (5.4) ...\n",
            "Setting up netbase (5.4) ...\n"
          ],
          "name": "stdout"
        }
      ]
    },
    {
      "cell_type": "markdown",
      "metadata": {
        "id": "bCAhH3gllBIv"
      },
      "source": [
        "# Classes URI"
      ]
    },
    {
      "cell_type": "code",
      "metadata": {
        "id": "c_c3PM_-kcU9"
      },
      "source": [
        "musicalGroup = URIRef('http://www.musicbands.com/ontologies/MusicBands.owl#MusicalGroup')\n",
        "rockGroup = URIRef('http://www.musicbands.com/ontologies/MusicBands.owl#RockGroup')\n",
        "rapGroup = URIRef('http://www.musicbands.com/ontologies/MusicBands.owl#RapGroup')\n",
        "popGroup = URIRef('http://www.musicbands.com/ontologies/MusicBands.owl#PopGroup')\n",
        "\n",
        "musicalGenre = URIRef('http://www.musicbands.com/ontologies/MusicBands.owl#MusicalGenre')\n",
        "rockMusic = URIRef('http://www.musicbands.com/ontologies/MusicBands.owl#RockMusic')\n",
        "popMusic = URIRef('http://www.musicbands.com/ontologies/MusicBands.owl#PopMusic')\n",
        "hipHopMusic = URIRef('http://www.musicbands.com/ontologies/MusicBands.owl#HipHopMusic')\n",
        "\n",
        "musician = URIRef('http://www.musicbands.com/ontologies/MusicBands.owl#Musician')\n",
        "award = URIRef('http://www.musicbands.com/ontologies/MusicBands.owl#Award')\n",
        "country = URIRef('http://www.musicbands.com/ontologies/MusicBands.owl#Country')\n",
        "language = URIRef('http://www.musicbands.com/ontologies/MusicBands.owl#Language')"
      ],
      "execution_count": 14,
      "outputs": []
    },
    {
      "cell_type": "markdown",
      "metadata": {
        "id": "coeS2QqApM5P"
      },
      "source": [
        "# Object Properties URI"
      ]
    },
    {
      "cell_type": "code",
      "metadata": {
        "id": "Dt00ltPLpQ_1"
      },
      "source": [
        "bornIn = URIRef('http://www.musicbands.com/ontologies/MusicBands.owl#bornIn')\n",
        "foundedIn = URIRef('http://www.musicbands.com/ontologies/MusicBands.owl#foundedIn')\n",
        "hasDeserved = URIRef('http://www.musicbands.com/ontologies/MusicBands.owl#hasDeserved')\n",
        "hasGenre = URIRef('http://www.musicbands.com/ontologies/MusicBands.owl#hasGenre')\n",
        "hasMember = URIRef('http://www.musicbands.com/ontologies/MusicBands.owl#hasMember')\n",
        "playedIn = URIRef('http://www.musicbands.com/ontologies/MusicBands.owl#playedIn')\n",
        "speaksIn = URIRef('http://www.musicbands.com/ontologies/MusicBands.owl#speaksIn')\n",
        "rdftype = URIRef(\"http://www.w3.org/1999/02/22-rdf-syntax-ns#type\") "
      ],
      "execution_count": 15,
      "outputs": []
    },
    {
      "cell_type": "markdown",
      "metadata": {
        "id": "XQvJxbkrquAe"
      },
      "source": [
        "# Data Properties URI"
      ]
    },
    {
      "cell_type": "code",
      "metadata": {
        "id": "_JY8eQ8jqyDC"
      },
      "source": [
        "careerStarted = URIRef('http://www.musicbands.com/ontologies/MusicBands.owl#careerStarted')\n",
        "careerOver = URIRef('http://www.musicbands.com/ontologies/MusicBands.owl#careerOver')\n",
        "diedIn = URIRef('http://www.musicbands.com/ontologies/MusicBands.owl#diedIn')\n",
        "disbandedIn = URIRef('http://www.musicbands.com/ontologies/MusicBands.owl#disbandedIn')\n",
        "foundedIn = URIRef('http://www.musicbands.com/ontologies/MusicBands.owl#foundedIn')\n",
        "wasBorn = URIRef('http://www.musicbands.com/ontologies/MusicBands.owl#wasBorn')"
      ],
      "execution_count": null,
      "outputs": []
    },
    {
      "cell_type": "code",
      "metadata": {
        "id": "EtNSnIBibCYL"
      },
      "source": [
        "graph = Graph().parse('MusicBands.owl', format='application/rdf+xml')"
      ],
      "execution_count": null,
      "outputs": []
    },
    {
      "cell_type": "markdown",
      "metadata": {
        "id": "Zl-SncfRf_kE"
      },
      "source": [
        "# Подключение к WikiData"
      ]
    },
    {
      "cell_type": "markdown",
      "metadata": {
        "id": "7ZbbTSI9bKQP"
      },
      "source": [
        "## добавление музыкальных групп"
      ]
    },
    {
      "cell_type": "code",
      "metadata": {
        "id": "cf6EI5wZZX60"
      },
      "source": [
        "def checkIfHasLabel(s):\n",
        "    if s[0] != \"Q\":\n",
        "        return True \n",
        "    try: \n",
        "        int(s)\n",
        "        return True\n",
        "    except ValueError:\n",
        "        return False\n",
        "\n",
        "def add_to_graph(prop: str, id: str, uri: URIRef, ):\n",
        "  sparql = SPARQLWrapper(\"https://query.wikidata.org/sparql\")\n",
        "\n",
        "  sparql.setQuery(\"\"\"\n",
        "  SELECT ?item ?itemLabel \n",
        "  WHERE \n",
        "  { \n",
        "    ?item wdt:\"\"\" + prop + \"\"\" wd:\"\"\" + id + \"\"\".\n",
        "    SERVICE wikibase:label { bd:serviceParam wikibase:language \"[AUTO_LANGUAGE],en\".\n",
        "                             ?item rdfs:label ?itemLabel }\n",
        "  }\n",
        "  \"\"\")\n",
        "  sparql.setReturnFormat(JSON)\n",
        "  results = sparql.query().convert()\n",
        "  i = 0\n",
        "  for result in results[\"results\"][\"bindings\"]:\n",
        "    name = result[\"itemLabel\"][\"value\"]\n",
        "    if not checkIfHasLabel(name):\n",
        "      continue\n",
        "    name = name.replace(\" \", \"_\").replace('\"','').replace('^', '').replace('`', '').replace('>', '').replace('<', '')\n",
        "    item = URIRef(f'http://www.musicbands.com/ontologies/MusicBands.owl#{ name }')\n",
        "    graph.add((item, RDF.type, uri))\n",
        "    i = i + 1\n",
        "  return i"
      ],
      "execution_count": null,
      "outputs": []
    },
    {
      "cell_type": "code",
      "metadata": {
        "colab": {
          "base_uri": "https://localhost:8080/",
          "height": 398
        },
        "id": "rN1JjdVHe8GZ",
        "outputId": "c5c43c27-10c9-4c3a-d6d6-cc046137c1a7"
      },
      "source": [
        "#add_to_graph(\"P31\", \"Q5741069\", rockGroup)\n",
        "#add_to_graph(\"P31\", \"Q19464263\", rapGroup)\n",
        "#add_to_graph(\"P31\", \"Q2491498\", popGroup)\n",
        "\n",
        "add_to_graph(\"P279\", \"Q11399\", rockMusic)\n",
        "add_to_graph(\"P279\", \"Q11401\", hipHopMusic)\n",
        "add_to_graph(\"P279\", \"Q37073\", popMusic)\n",
        "\n",
        "add_to_graph(\"P31\", \"Q6256\", country)\n",
        "#add_to_graph(\"P106\", \"Q639669\", musician)\n",
        "add_to_graph(\"P31\", \"Q1288568\", language)\n",
        "add_to_graph(\"P31\", \"Q1364556\", award)"
      ],
      "execution_count": null,
      "outputs": [
        {
          "output_type": "error",
          "ename": "HTTPError",
          "evalue": "ignored",
          "traceback": [
            "\u001b[0;31m---------------------------------------------------------------------------\u001b[0m",
            "\u001b[0;31mHTTPError\u001b[0m                                 Traceback (most recent call last)",
            "\u001b[0;32m<ipython-input-11-44d3e2e9d46c>\u001b[0m in \u001b[0;36m<module>\u001b[0;34m()\u001b[0m\n\u001b[1;32m      3\u001b[0m \u001b[0;31m#add_to_graph(\"P31\", \"Q2491498\", popGroup)\u001b[0m\u001b[0;34m\u001b[0m\u001b[0;34m\u001b[0m\u001b[0;34m\u001b[0m\u001b[0m\n\u001b[1;32m      4\u001b[0m \u001b[0;34m\u001b[0m\u001b[0m\n\u001b[0;32m----> 5\u001b[0;31m \u001b[0madd_to_graph\u001b[0m\u001b[0;34m(\u001b[0m\u001b[0;34m\"P279\"\u001b[0m\u001b[0;34m,\u001b[0m \u001b[0;34m\"Q11399\"\u001b[0m\u001b[0;34m,\u001b[0m \u001b[0mrockMusic\u001b[0m\u001b[0;34m)\u001b[0m\u001b[0;34m\u001b[0m\u001b[0;34m\u001b[0m\u001b[0m\n\u001b[0m\u001b[1;32m      6\u001b[0m \u001b[0madd_to_graph\u001b[0m\u001b[0;34m(\u001b[0m\u001b[0;34m\"P279\"\u001b[0m\u001b[0;34m,\u001b[0m \u001b[0;34m\"Q11401\"\u001b[0m\u001b[0;34m,\u001b[0m \u001b[0mhipHopMusic\u001b[0m\u001b[0;34m)\u001b[0m\u001b[0;34m\u001b[0m\u001b[0;34m\u001b[0m\u001b[0m\n\u001b[1;32m      7\u001b[0m \u001b[0madd_to_graph\u001b[0m\u001b[0;34m(\u001b[0m\u001b[0;34m\"P279\"\u001b[0m\u001b[0;34m,\u001b[0m \u001b[0;34m\"Q37073\"\u001b[0m\u001b[0;34m,\u001b[0m \u001b[0mpopMusic\u001b[0m\u001b[0;34m)\u001b[0m\u001b[0;34m\u001b[0m\u001b[0;34m\u001b[0m\u001b[0m\n",
            "\u001b[0;32m<ipython-input-10-a9f729ba9e1c>\u001b[0m in \u001b[0;36madd_to_graph\u001b[0;34m(prop, id, uri)\u001b[0m\n\u001b[1;32m     21\u001b[0m   \"\"\")\n\u001b[1;32m     22\u001b[0m   \u001b[0msparql\u001b[0m\u001b[0;34m.\u001b[0m\u001b[0msetReturnFormat\u001b[0m\u001b[0;34m(\u001b[0m\u001b[0mJSON\u001b[0m\u001b[0;34m)\u001b[0m\u001b[0;34m\u001b[0m\u001b[0;34m\u001b[0m\u001b[0m\n\u001b[0;32m---> 23\u001b[0;31m   \u001b[0mresults\u001b[0m \u001b[0;34m=\u001b[0m \u001b[0msparql\u001b[0m\u001b[0;34m.\u001b[0m\u001b[0mquery\u001b[0m\u001b[0;34m(\u001b[0m\u001b[0;34m)\u001b[0m\u001b[0;34m.\u001b[0m\u001b[0mconvert\u001b[0m\u001b[0;34m(\u001b[0m\u001b[0;34m)\u001b[0m\u001b[0;34m\u001b[0m\u001b[0;34m\u001b[0m\u001b[0m\n\u001b[0m\u001b[1;32m     24\u001b[0m   \u001b[0mi\u001b[0m \u001b[0;34m=\u001b[0m \u001b[0;36m0\u001b[0m\u001b[0;34m\u001b[0m\u001b[0;34m\u001b[0m\u001b[0m\n\u001b[1;32m     25\u001b[0m   \u001b[0;32mfor\u001b[0m \u001b[0mresult\u001b[0m \u001b[0;32min\u001b[0m \u001b[0mresults\u001b[0m\u001b[0;34m[\u001b[0m\u001b[0;34m\"results\"\u001b[0m\u001b[0;34m]\u001b[0m\u001b[0;34m[\u001b[0m\u001b[0;34m\"bindings\"\u001b[0m\u001b[0;34m]\u001b[0m\u001b[0;34m:\u001b[0m\u001b[0;34m\u001b[0m\u001b[0;34m\u001b[0m\u001b[0m\n",
            "\u001b[0;32m/usr/local/lib/python3.7/dist-packages/SPARQLWrapper/Wrapper.py\u001b[0m in \u001b[0;36mquery\u001b[0;34m(self)\u001b[0m\n\u001b[1;32m   1105\u001b[0m             \u001b[0;34m:\u001b[0m\u001b[0mrtype\u001b[0m\u001b[0;34m:\u001b[0m \u001b[0;34m:\u001b[0m\u001b[0;32mclass\u001b[0m\u001b[0;34m:\u001b[0m\u001b[0;31m`\u001b[0m\u001b[0mQueryResult\u001b[0m\u001b[0;31m`\u001b[0m \u001b[0minstance\u001b[0m\u001b[0;34m\u001b[0m\u001b[0;34m\u001b[0m\u001b[0m\n\u001b[1;32m   1106\u001b[0m         \"\"\"\n\u001b[0;32m-> 1107\u001b[0;31m         \u001b[0;32mreturn\u001b[0m \u001b[0mQueryResult\u001b[0m\u001b[0;34m(\u001b[0m\u001b[0mself\u001b[0m\u001b[0;34m.\u001b[0m\u001b[0m_query\u001b[0m\u001b[0;34m(\u001b[0m\u001b[0;34m)\u001b[0m\u001b[0;34m)\u001b[0m\u001b[0;34m\u001b[0m\u001b[0;34m\u001b[0m\u001b[0m\n\u001b[0m\u001b[1;32m   1108\u001b[0m \u001b[0;34m\u001b[0m\u001b[0m\n\u001b[1;32m   1109\u001b[0m     \u001b[0;32mdef\u001b[0m \u001b[0mqueryAndConvert\u001b[0m\u001b[0;34m(\u001b[0m\u001b[0mself\u001b[0m\u001b[0;34m)\u001b[0m\u001b[0;34m:\u001b[0m\u001b[0;34m\u001b[0m\u001b[0;34m\u001b[0m\u001b[0m\n",
            "\u001b[0;32m/usr/local/lib/python3.7/dist-packages/SPARQLWrapper/Wrapper.py\u001b[0m in \u001b[0;36m_query\u001b[0;34m(self)\u001b[0m\n\u001b[1;32m   1085\u001b[0m                 \u001b[0;32mraise\u001b[0m \u001b[0mEndPointInternalError\u001b[0m\u001b[0;34m(\u001b[0m\u001b[0me\u001b[0m\u001b[0;34m.\u001b[0m\u001b[0mread\u001b[0m\u001b[0;34m(\u001b[0m\u001b[0;34m)\u001b[0m\u001b[0;34m)\u001b[0m\u001b[0;34m\u001b[0m\u001b[0;34m\u001b[0m\u001b[0m\n\u001b[1;32m   1086\u001b[0m             \u001b[0;32melse\u001b[0m\u001b[0;34m:\u001b[0m\u001b[0;34m\u001b[0m\u001b[0;34m\u001b[0m\u001b[0m\n\u001b[0;32m-> 1087\u001b[0;31m                 \u001b[0;32mraise\u001b[0m \u001b[0me\u001b[0m\u001b[0;34m\u001b[0m\u001b[0;34m\u001b[0m\u001b[0m\n\u001b[0m\u001b[1;32m   1088\u001b[0m \u001b[0;34m\u001b[0m\u001b[0m\n\u001b[1;32m   1089\u001b[0m     \u001b[0;32mdef\u001b[0m \u001b[0mquery\u001b[0m\u001b[0;34m(\u001b[0m\u001b[0mself\u001b[0m\u001b[0;34m)\u001b[0m\u001b[0;34m:\u001b[0m\u001b[0;34m\u001b[0m\u001b[0;34m\u001b[0m\u001b[0m\n",
            "\u001b[0;32m/usr/local/lib/python3.7/dist-packages/SPARQLWrapper/Wrapper.py\u001b[0m in \u001b[0;36m_query\u001b[0;34m(self)\u001b[0m\n\u001b[1;32m   1071\u001b[0m                 \u001b[0mresponse\u001b[0m \u001b[0;34m=\u001b[0m \u001b[0murlopener\u001b[0m\u001b[0;34m(\u001b[0m\u001b[0mrequest\u001b[0m\u001b[0;34m,\u001b[0m \u001b[0mtimeout\u001b[0m\u001b[0;34m=\u001b[0m\u001b[0mself\u001b[0m\u001b[0;34m.\u001b[0m\u001b[0mtimeout\u001b[0m\u001b[0;34m)\u001b[0m\u001b[0;34m\u001b[0m\u001b[0;34m\u001b[0m\u001b[0m\n\u001b[1;32m   1072\u001b[0m             \u001b[0;32melse\u001b[0m\u001b[0;34m:\u001b[0m\u001b[0;34m\u001b[0m\u001b[0;34m\u001b[0m\u001b[0m\n\u001b[0;32m-> 1073\u001b[0;31m                 \u001b[0mresponse\u001b[0m \u001b[0;34m=\u001b[0m \u001b[0murlopener\u001b[0m\u001b[0;34m(\u001b[0m\u001b[0mrequest\u001b[0m\u001b[0;34m)\u001b[0m\u001b[0;34m\u001b[0m\u001b[0;34m\u001b[0m\u001b[0m\n\u001b[0m\u001b[1;32m   1074\u001b[0m             \u001b[0;32mreturn\u001b[0m \u001b[0mresponse\u001b[0m\u001b[0;34m,\u001b[0m \u001b[0mself\u001b[0m\u001b[0;34m.\u001b[0m\u001b[0mreturnFormat\u001b[0m\u001b[0;34m\u001b[0m\u001b[0;34m\u001b[0m\u001b[0m\n\u001b[1;32m   1075\u001b[0m         \u001b[0;32mexcept\u001b[0m \u001b[0murllib\u001b[0m\u001b[0;34m.\u001b[0m\u001b[0merror\u001b[0m\u001b[0;34m.\u001b[0m\u001b[0mHTTPError\u001b[0m \u001b[0;32mas\u001b[0m \u001b[0me\u001b[0m\u001b[0;34m:\u001b[0m\u001b[0;34m\u001b[0m\u001b[0;34m\u001b[0m\u001b[0m\n",
            "\u001b[0;32m/usr/lib/python3.7/urllib/request.py\u001b[0m in \u001b[0;36murlopen\u001b[0;34m(url, data, timeout, cafile, capath, cadefault, context)\u001b[0m\n\u001b[1;32m    220\u001b[0m     \u001b[0;32melse\u001b[0m\u001b[0;34m:\u001b[0m\u001b[0;34m\u001b[0m\u001b[0;34m\u001b[0m\u001b[0m\n\u001b[1;32m    221\u001b[0m         \u001b[0mopener\u001b[0m \u001b[0;34m=\u001b[0m \u001b[0m_opener\u001b[0m\u001b[0;34m\u001b[0m\u001b[0;34m\u001b[0m\u001b[0m\n\u001b[0;32m--> 222\u001b[0;31m     \u001b[0;32mreturn\u001b[0m \u001b[0mopener\u001b[0m\u001b[0;34m.\u001b[0m\u001b[0mopen\u001b[0m\u001b[0;34m(\u001b[0m\u001b[0murl\u001b[0m\u001b[0;34m,\u001b[0m \u001b[0mdata\u001b[0m\u001b[0;34m,\u001b[0m \u001b[0mtimeout\u001b[0m\u001b[0;34m)\u001b[0m\u001b[0;34m\u001b[0m\u001b[0;34m\u001b[0m\u001b[0m\n\u001b[0m\u001b[1;32m    223\u001b[0m \u001b[0;34m\u001b[0m\u001b[0m\n\u001b[1;32m    224\u001b[0m \u001b[0;32mdef\u001b[0m \u001b[0minstall_opener\u001b[0m\u001b[0;34m(\u001b[0m\u001b[0mopener\u001b[0m\u001b[0;34m)\u001b[0m\u001b[0;34m:\u001b[0m\u001b[0;34m\u001b[0m\u001b[0;34m\u001b[0m\u001b[0m\n",
            "\u001b[0;32m/usr/lib/python3.7/urllib/request.py\u001b[0m in \u001b[0;36mopen\u001b[0;34m(self, fullurl, data, timeout)\u001b[0m\n\u001b[1;32m    529\u001b[0m         \u001b[0;32mfor\u001b[0m \u001b[0mprocessor\u001b[0m \u001b[0;32min\u001b[0m \u001b[0mself\u001b[0m\u001b[0;34m.\u001b[0m\u001b[0mprocess_response\u001b[0m\u001b[0;34m.\u001b[0m\u001b[0mget\u001b[0m\u001b[0;34m(\u001b[0m\u001b[0mprotocol\u001b[0m\u001b[0;34m,\u001b[0m \u001b[0;34m[\u001b[0m\u001b[0;34m]\u001b[0m\u001b[0;34m)\u001b[0m\u001b[0;34m:\u001b[0m\u001b[0;34m\u001b[0m\u001b[0;34m\u001b[0m\u001b[0m\n\u001b[1;32m    530\u001b[0m             \u001b[0mmeth\u001b[0m \u001b[0;34m=\u001b[0m \u001b[0mgetattr\u001b[0m\u001b[0;34m(\u001b[0m\u001b[0mprocessor\u001b[0m\u001b[0;34m,\u001b[0m \u001b[0mmeth_name\u001b[0m\u001b[0;34m)\u001b[0m\u001b[0;34m\u001b[0m\u001b[0;34m\u001b[0m\u001b[0m\n\u001b[0;32m--> 531\u001b[0;31m             \u001b[0mresponse\u001b[0m \u001b[0;34m=\u001b[0m \u001b[0mmeth\u001b[0m\u001b[0;34m(\u001b[0m\u001b[0mreq\u001b[0m\u001b[0;34m,\u001b[0m \u001b[0mresponse\u001b[0m\u001b[0;34m)\u001b[0m\u001b[0;34m\u001b[0m\u001b[0;34m\u001b[0m\u001b[0m\n\u001b[0m\u001b[1;32m    532\u001b[0m \u001b[0;34m\u001b[0m\u001b[0m\n\u001b[1;32m    533\u001b[0m         \u001b[0;32mreturn\u001b[0m \u001b[0mresponse\u001b[0m\u001b[0;34m\u001b[0m\u001b[0;34m\u001b[0m\u001b[0m\n",
            "\u001b[0;32m/usr/lib/python3.7/urllib/request.py\u001b[0m in \u001b[0;36mhttp_response\u001b[0;34m(self, request, response)\u001b[0m\n\u001b[1;32m    639\u001b[0m         \u001b[0;32mif\u001b[0m \u001b[0;32mnot\u001b[0m \u001b[0;34m(\u001b[0m\u001b[0;36m200\u001b[0m \u001b[0;34m<=\u001b[0m \u001b[0mcode\u001b[0m \u001b[0;34m<\u001b[0m \u001b[0;36m300\u001b[0m\u001b[0;34m)\u001b[0m\u001b[0;34m:\u001b[0m\u001b[0;34m\u001b[0m\u001b[0;34m\u001b[0m\u001b[0m\n\u001b[1;32m    640\u001b[0m             response = self.parent.error(\n\u001b[0;32m--> 641\u001b[0;31m                 'http', request, response, code, msg, hdrs)\n\u001b[0m\u001b[1;32m    642\u001b[0m \u001b[0;34m\u001b[0m\u001b[0m\n\u001b[1;32m    643\u001b[0m         \u001b[0;32mreturn\u001b[0m \u001b[0mresponse\u001b[0m\u001b[0;34m\u001b[0m\u001b[0;34m\u001b[0m\u001b[0m\n",
            "\u001b[0;32m/usr/lib/python3.7/urllib/request.py\u001b[0m in \u001b[0;36merror\u001b[0;34m(self, proto, *args)\u001b[0m\n\u001b[1;32m    567\u001b[0m         \u001b[0;32mif\u001b[0m \u001b[0mhttp_err\u001b[0m\u001b[0;34m:\u001b[0m\u001b[0;34m\u001b[0m\u001b[0;34m\u001b[0m\u001b[0m\n\u001b[1;32m    568\u001b[0m             \u001b[0margs\u001b[0m \u001b[0;34m=\u001b[0m \u001b[0;34m(\u001b[0m\u001b[0mdict\u001b[0m\u001b[0;34m,\u001b[0m \u001b[0;34m'default'\u001b[0m\u001b[0;34m,\u001b[0m \u001b[0;34m'http_error_default'\u001b[0m\u001b[0;34m)\u001b[0m \u001b[0;34m+\u001b[0m \u001b[0morig_args\u001b[0m\u001b[0;34m\u001b[0m\u001b[0;34m\u001b[0m\u001b[0m\n\u001b[0;32m--> 569\u001b[0;31m             \u001b[0;32mreturn\u001b[0m \u001b[0mself\u001b[0m\u001b[0;34m.\u001b[0m\u001b[0m_call_chain\u001b[0m\u001b[0;34m(\u001b[0m\u001b[0;34m*\u001b[0m\u001b[0margs\u001b[0m\u001b[0;34m)\u001b[0m\u001b[0;34m\u001b[0m\u001b[0;34m\u001b[0m\u001b[0m\n\u001b[0m\u001b[1;32m    570\u001b[0m \u001b[0;34m\u001b[0m\u001b[0m\n\u001b[1;32m    571\u001b[0m \u001b[0;31m# XXX probably also want an abstract factory that knows when it makes\u001b[0m\u001b[0;34m\u001b[0m\u001b[0;34m\u001b[0m\u001b[0;34m\u001b[0m\u001b[0m\n",
            "\u001b[0;32m/usr/lib/python3.7/urllib/request.py\u001b[0m in \u001b[0;36m_call_chain\u001b[0;34m(self, chain, kind, meth_name, *args)\u001b[0m\n\u001b[1;32m    501\u001b[0m         \u001b[0;32mfor\u001b[0m \u001b[0mhandler\u001b[0m \u001b[0;32min\u001b[0m \u001b[0mhandlers\u001b[0m\u001b[0;34m:\u001b[0m\u001b[0;34m\u001b[0m\u001b[0;34m\u001b[0m\u001b[0m\n\u001b[1;32m    502\u001b[0m             \u001b[0mfunc\u001b[0m \u001b[0;34m=\u001b[0m \u001b[0mgetattr\u001b[0m\u001b[0;34m(\u001b[0m\u001b[0mhandler\u001b[0m\u001b[0;34m,\u001b[0m \u001b[0mmeth_name\u001b[0m\u001b[0;34m)\u001b[0m\u001b[0;34m\u001b[0m\u001b[0;34m\u001b[0m\u001b[0m\n\u001b[0;32m--> 503\u001b[0;31m             \u001b[0mresult\u001b[0m \u001b[0;34m=\u001b[0m \u001b[0mfunc\u001b[0m\u001b[0;34m(\u001b[0m\u001b[0;34m*\u001b[0m\u001b[0margs\u001b[0m\u001b[0;34m)\u001b[0m\u001b[0;34m\u001b[0m\u001b[0;34m\u001b[0m\u001b[0m\n\u001b[0m\u001b[1;32m    504\u001b[0m             \u001b[0;32mif\u001b[0m \u001b[0mresult\u001b[0m \u001b[0;32mis\u001b[0m \u001b[0;32mnot\u001b[0m \u001b[0;32mNone\u001b[0m\u001b[0;34m:\u001b[0m\u001b[0;34m\u001b[0m\u001b[0;34m\u001b[0m\u001b[0m\n\u001b[1;32m    505\u001b[0m                 \u001b[0;32mreturn\u001b[0m \u001b[0mresult\u001b[0m\u001b[0;34m\u001b[0m\u001b[0;34m\u001b[0m\u001b[0m\n",
            "\u001b[0;32m/usr/lib/python3.7/urllib/request.py\u001b[0m in \u001b[0;36mhttp_error_default\u001b[0;34m(self, req, fp, code, msg, hdrs)\u001b[0m\n\u001b[1;32m    647\u001b[0m \u001b[0;32mclass\u001b[0m \u001b[0mHTTPDefaultErrorHandler\u001b[0m\u001b[0;34m(\u001b[0m\u001b[0mBaseHandler\u001b[0m\u001b[0;34m)\u001b[0m\u001b[0;34m:\u001b[0m\u001b[0;34m\u001b[0m\u001b[0;34m\u001b[0m\u001b[0m\n\u001b[1;32m    648\u001b[0m     \u001b[0;32mdef\u001b[0m \u001b[0mhttp_error_default\u001b[0m\u001b[0;34m(\u001b[0m\u001b[0mself\u001b[0m\u001b[0;34m,\u001b[0m \u001b[0mreq\u001b[0m\u001b[0;34m,\u001b[0m \u001b[0mfp\u001b[0m\u001b[0;34m,\u001b[0m \u001b[0mcode\u001b[0m\u001b[0;34m,\u001b[0m \u001b[0mmsg\u001b[0m\u001b[0;34m,\u001b[0m \u001b[0mhdrs\u001b[0m\u001b[0;34m)\u001b[0m\u001b[0;34m:\u001b[0m\u001b[0;34m\u001b[0m\u001b[0;34m\u001b[0m\u001b[0m\n\u001b[0;32m--> 649\u001b[0;31m         \u001b[0;32mraise\u001b[0m \u001b[0mHTTPError\u001b[0m\u001b[0;34m(\u001b[0m\u001b[0mreq\u001b[0m\u001b[0;34m.\u001b[0m\u001b[0mfull_url\u001b[0m\u001b[0;34m,\u001b[0m \u001b[0mcode\u001b[0m\u001b[0;34m,\u001b[0m \u001b[0mmsg\u001b[0m\u001b[0;34m,\u001b[0m \u001b[0mhdrs\u001b[0m\u001b[0;34m,\u001b[0m \u001b[0mfp\u001b[0m\u001b[0;34m)\u001b[0m\u001b[0;34m\u001b[0m\u001b[0;34m\u001b[0m\u001b[0m\n\u001b[0m\u001b[1;32m    650\u001b[0m \u001b[0;34m\u001b[0m\u001b[0m\n\u001b[1;32m    651\u001b[0m \u001b[0;32mclass\u001b[0m \u001b[0mHTTPRedirectHandler\u001b[0m\u001b[0;34m(\u001b[0m\u001b[0mBaseHandler\u001b[0m\u001b[0;34m)\u001b[0m\u001b[0;34m:\u001b[0m\u001b[0;34m\u001b[0m\u001b[0;34m\u001b[0m\u001b[0m\n",
            "\u001b[0;31mHTTPError\u001b[0m: HTTP Error 403: Forbidden"
          ]
        }
      ]
    },
    {
      "cell_type": "code",
      "metadata": {
        "id": "ibV_NiYQ5D-x"
      },
      "source": [
        "sparql = SPARQLWrapper(\"https://query.wikidata.org/sparql\")\n",
        "\n",
        "sparql.setQuery(\"\"\"\n",
        "SELECT ?item ?itemLabel \n",
        "WHERE \n",
        "{ \n",
        "  ?item wdt:\"\"\" + prop + \"\"\" wd:\"\"\" + id + \"\"\".\n",
        "  SERVICE wikibase:label { bd:serviceParam wikibase:language \"[AUTO_LANGUAGE],en\".\n",
        "                           ?item rdfs:label ?itemLabel }\n",
        "}\n",
        "\"\"\")\n",
        "sparql.setReturnFormat(JSON)\n",
        "results = sparql.query().convert()\n",
        "i = 0\n",
        "for result in results[\"results\"][\"bindings\"]:\n",
        "  name = result[\"itemLabel\"][\"value\"]\n",
        "  if not checkIfHasLabel(name):\n",
        "    continue\n",
        "  name = name.replace(\" \", \"_\").replace('\"','').replace('^', '').replace('`', '').replace('>', '').replace('<', '')\n",
        "  item = URIRef(f'http://www.musicbands.com/ontologies/MusicBands.owl#{ name }')\n",
        "  graph.add((item, RDF.type, uri))\n",
        "  i = i + 1"
      ],
      "execution_count": null,
      "outputs": []
    },
    {
      "cell_type": "markdown",
      "metadata": {
        "id": "kAKFqd5vf84B"
      },
      "source": [
        "Сохранить в файл \"MusicBands_populated.rdf\""
      ]
    },
    {
      "cell_type": "code",
      "metadata": {
        "id": "PWi2S6w2dwsp"
      },
      "source": [
        "graph.serialize(destination='/content/drive/MyDrive/colab_data/MusicBands_populated_simple3.rdf')"
      ],
      "execution_count": 89,
      "outputs": []
    },
    {
      "cell_type": "code",
      "metadata": {
        "id": "Y3alYE_pYZqd",
        "colab": {
          "base_uri": "https://localhost:8080/"
        },
        "outputId": "8c1f6035-248f-44b9-fbae-42eb5a0ebd52"
      },
      "source": [
        "graph = Graph().parse('/content/drive/MyDrive/colab_data/MusicBands_populated_simple.rdf', format='application/rdf+xml')"
      ],
      "execution_count": 60,
      "outputs": [
        {
          "output_type": "stream",
          "text": [
            "WARNING:rdflib.term:http://www.musicbands.com/ontologies/MusicBands.owl#Crash\\Zendo does not look like a valid URI, trying to serialize this will break.\n",
            "WARNING:rdflib.term:http://www.musicbands.com/ontologies/MusicBands.owl#Detritus_{x} does not look like a valid URI, trying to serialize this will break.\n",
            "WARNING:rdflib.term:http://www.musicbands.com/ontologies/MusicBands.owl#c|†vde|_b|vck does not look like a valid URI, trying to serialize this will break.\n"
          ],
          "name": "stderr"
        }
      ]
    },
    {
      "cell_type": "code",
      "metadata": {
        "colab": {
          "base_uri": "https://localhost:8080/"
        },
        "id": "mmR0Ii4UdzSk",
        "outputId": "6b1ceeaa-47c9-4262-824f-b30b7622bf5b"
      },
      "source": [
        "qres = graph.query(\n",
        "    \"\"\"\n",
        "    PREFIX g: <http://www.musicbands.com/ontologies/MusicBands.owl#>\n",
        "    SELECT ?a ?b\n",
        "    WHERE {\n",
        "        ?a ?b <http://www.musicbands.com/ontologies/MusicBands.owl#The_Good_Life> .\n",
        "        \n",
        "    }\n",
        "       \"\"\")\n",
        "for row in qres:\n",
        "    graph.remove((row[0], row[1], URIRef('http://www.musicbands.com/ontologies/MusicBands.owl#The_Good_Life')))\n",
        "    print(row)"
      ],
      "execution_count": 88,
      "outputs": [
        {
          "output_type": "stream",
          "text": [
            "(rdflib.term.URIRef(\"http://www.musicbands.com/ontologies/MusicBands.owl#The_'89_Cubs\"), rdflib.term.URIRef('http://www.musicbands.com/ontologies/MusicBands.owl#hasMember'))\n"
          ],
          "name": "stdout"
        }
      ]
    },
    {
      "cell_type": "code",
      "metadata": {
        "id": "IbOuoS2Q-j-k"
      },
      "source": [
        "qres = graph.query(\n",
        "    \"\"\"\n",
        "    PREFIX g: <http://www.musicbands.com/ontologies/MusicBands.owl#>\n",
        "    SELECT ?a ?b ?c\n",
        "    WHERE {\n",
        "        ?a rdf:type <http://www.musicbands.com/ontologies/MusicBands.owl#MusicalGroup> .\n",
        "        ?a ?b ?c.\n",
        "        FILTER (?b = <http://www.musicbands.com/ontologies/MusicBands.owl#playedIn>) .\n",
        "    }\n",
        "       \"\"\")\n",
        "for row in qres:\n",
        "    print(row)"
      ],
      "execution_count": 80,
      "outputs": []
    },
    {
      "cell_type": "markdown",
      "metadata": {
        "id": "aUHCUP26YxTP"
      },
      "source": [
        "SPARQL запросы"
      ]
    },
    {
      "cell_type": "markdown",
      "metadata": {
        "id": "scEA0skpgfJN"
      },
      "source": [
        "1 - какие жанры были популярны в 1970-х годах?"
      ]
    },
    {
      "cell_type": "code",
      "metadata": {
        "colab": {
          "base_uri": "https://localhost:8080/"
        },
        "id": "t9TpU1PEYwrZ",
        "outputId": "fbceac28-ace4-4529-c4a8-400fa7a41bcb"
      },
      "source": [
        "qres = graph.query(\n",
        "    \"\"\"\n",
        "    PREFIX g: <http://www.musicbands.com/ontologies/MusicBands.owl#>\n",
        "    SELECT ?genre (COUNT(?group) AS ?count)\n",
        "    WHERE {\n",
        "        ?group g:foundedIn ?data .\n",
        "        ?group g:hasGenre ?genre .\n",
        "        FILTER (?data > 1969 && ?data < 1980) . \n",
        "\n",
        "    }\n",
        "    GROUP BY ?genre\n",
        "    ORDER BY DESC(?count) LIMIT 5\n",
        "       \"\"\")\n",
        "for row in qres:\n",
        "    print(\"%s -> %s\" % row)\n"
      ],
      "execution_count": null,
      "outputs": [
        {
          "output_type": "stream",
          "text": [
            "http://www.musicbands.com/ontologies/MusicBands.owl#rock_music -> 42\n",
            "http://www.musicbands.com/ontologies/MusicBands.owl#progressive_rock -> 36\n",
            "http://www.musicbands.com/ontologies/MusicBands.owl#hard_rock -> 29\n",
            "http://www.musicbands.com/ontologies/MusicBands.owl#punk_rock -> 20\n",
            "http://www.musicbands.com/ontologies/MusicBands.owl#new_wave -> 18\n"
          ],
          "name": "stdout"
        }
      ]
    },
    {
      "cell_type": "markdown",
      "metadata": {
        "id": "s-p7CnMDDKWw"
      },
      "source": [
        "2 - в каком году появилась первая progressive rock группа?\n"
      ]
    },
    {
      "cell_type": "code",
      "metadata": {
        "colab": {
          "base_uri": "https://localhost:8080/"
        },
        "id": "Kwy7LP_7DD4t",
        "outputId": "10de1187-cdec-4872-99f8-46990fa39548"
      },
      "source": [
        "qres = graph.query(\n",
        "    \"\"\"\n",
        "    PREFIX g: <http://www.musicbands.com/ontologies/MusicBands.owl#>\n",
        "    SELECT ?group ?date\n",
        "    WHERE {\n",
        "        ?group g:hasGenre <http://www.musicbands.com/ontologies/MusicBands.owl#progressive_rock> .\n",
        "        ?group g:foundedIn ?date\n",
        "    }\n",
        "    ORDER BY ?date LIMIT 1\n",
        "       \"\"\")\n",
        "for row in qres:\n",
        "    print(\"%s -> %s\" % row)"
      ],
      "execution_count": null,
      "outputs": [
        {
          "output_type": "stream",
          "text": [
            "http://www.musicbands.com/ontologies/MusicBands.owl#The_Moody_Blues -> 1964\n"
          ],
          "name": "stdout"
        }
      ]
    },
    {
      "cell_type": "markdown",
      "metadata": {
        "id": "cXVhPSt1LzbB"
      },
      "source": [
        "3 - в каком году в США появилось больше всего музыкальных групп?"
      ]
    },
    {
      "cell_type": "code",
      "metadata": {
        "colab": {
          "base_uri": "https://localhost:8080/"
        },
        "id": "M1-r8ak0iHf8",
        "outputId": "5fd2bc63-7191-427f-abab-4a4c9d5eb66b"
      },
      "source": [
        "qres = graph.query(\n",
        "    \"\"\"\n",
        "    PREFIX g: <http://www.musicbands.com/ontologies/MusicBands.owl#>\n",
        "    SELECT ?date (COUNT(?group) AS ?count)\n",
        "    WHERE {\n",
        "        ?group g:countryOfOrigin <http://www.musicbands.com/ontologies/MusicBands.owl#United_States_of_America> .\n",
        "        ?group g:foundedIn ?date\n",
        "    }\n",
        "    GROUP BY ?date\n",
        "    ORDER BY DESC(?count) LIMIT 5\n",
        "       \"\"\")\n",
        "for row in qres:\n",
        "    print(\"%s -> %s\" % row)"
      ],
      "execution_count": null,
      "outputs": [
        {
          "output_type": "stream",
          "text": [
            "2005 -> 406\n",
            "2004 -> 365\n",
            "2006 -> 356\n",
            "2003 -> 348\n",
            "2001 -> 340\n"
          ],
          "name": "stdout"
        }
      ]
    },
    {
      "cell_type": "markdown",
      "metadata": {
        "id": "hGGc0VD6O0F9"
      },
      "source": [
        "4 - какой жанр был наиболее популярен в Англии в 90-е?"
      ]
    },
    {
      "cell_type": "code",
      "metadata": {
        "colab": {
          "base_uri": "https://localhost:8080/"
        },
        "id": "62PF1ZkMNNGn",
        "outputId": "10872a93-406a-4b63-e0df-8c7f33c3b374"
      },
      "source": [
        "qres = graph.query(\n",
        "    \"\"\"\n",
        "    PREFIX g: <http://www.musicbands.com/ontologies/MusicBands.owl#>\n",
        "    SELECT ?genre\n",
        "    WHERE {\n",
        "        ?group g:countryOfOrigin <http://www.musicbands.com/ontologies/MusicBands.owl#United_Kingdom> .\n",
        "        ?group g:hasGenre ?genre .\n",
        "        ?group g:foundedIn ?date .\n",
        "        FILTER (?date > 1989 && ?date < 2000) . \n",
        "\n",
        "    }\n",
        "    GROUP BY ?genre\n",
        "    ORDER BY DESC(?count) LIMIT 5\n",
        "       \"\"\")\n",
        "for row in qres:\n",
        "    print(row)"
      ],
      "execution_count": null,
      "outputs": [
        {
          "output_type": "stream",
          "text": [
            "(rdflib.term.URIRef('http://www.musicbands.com/ontologies/MusicBands.owl#pop_rock'),)\n",
            "(rdflib.term.URIRef('http://www.musicbands.com/ontologies/MusicBands.owl#post-Britpop'),)\n",
            "(rdflib.term.URIRef('http://www.musicbands.com/ontologies/MusicBands.owl#art_rock'),)\n",
            "(rdflib.term.URIRef('http://www.musicbands.com/ontologies/MusicBands.owl#pop_music'),)\n",
            "(rdflib.term.URIRef('http://www.musicbands.com/ontologies/MusicBands.owl#alternative_rock'),)\n"
          ],
          "name": "stdout"
        }
      ]
    },
    {
      "cell_type": "markdown",
      "metadata": {
        "id": "gNMZ888Ip0kF"
      },
      "source": [
        "# Reasoning"
      ]
    },
    {
      "cell_type": "code",
      "metadata": {
        "colab": {
          "base_uri": "https://localhost:8080/"
        },
        "id": "RJVerLATs3Dx",
        "outputId": "ccf2a07c-aa86-430b-9e52-87bfd63cbb84"
      },
      "source": [
        "! pip install Owlready2\n",
        "from owlready2 import *"
      ],
      "execution_count": 2,
      "outputs": [
        {
          "output_type": "stream",
          "text": [
            "Collecting Owlready2\n",
            "\u001b[?25l  Downloading https://files.pythonhosted.org/packages/a5/be/8202aa87b939a758acb997ab74a37951e5ca23adf44e68faa6386479e002/Owlready2-0.31.tar.gz (23.7MB)\n",
            "\u001b[K     |████████████████████████████████| 23.7MB 1.8MB/s \n",
            "\u001b[?25hBuilding wheels for collected packages: Owlready2\n",
            "  Building wheel for Owlready2 (setup.py) ... \u001b[?25l\u001b[?25hdone\n",
            "  Created wheel for Owlready2: filename=Owlready2-0.31-cp37-cp37m-linux_x86_64.whl size=20409729 sha256=a751080719f980bbe848b09ef591dc9cf607a7fa4c19f1c960a41772f5cafc9c\n",
            "  Stored in directory: /root/.cache/pip/wheels/9d/17/e4/54fb8381c51746a0d686b06ef3e3f607789defd8e1580bcb1b\n",
            "Successfully built Owlready2\n",
            "Installing collected packages: Owlready2\n",
            "Successfully installed Owlready2-0.31\n"
          ],
          "name": "stdout"
        }
      ]
    },
    {
      "cell_type": "code",
      "metadata": {
        "colab": {
          "base_uri": "https://localhost:8080/"
        },
        "id": "m9J56jOvr711",
        "outputId": "39a53d64-76a9-4f92-a964-ce9d11222857"
      },
      "source": [
        "import os       #importing os to set environment variable\n",
        "def install_java():\n",
        "  !apt-get install -y openjdk-8-jdk-headless -qq > /dev/null      #install openjdk\n",
        "  os.environ[\"JAVA_HOME\"] = \"/usr/lib/jvm/java-8-openjdk-amd64\"     #set environment variable\n",
        "  !java -version       #check java version\n",
        "install_java()\n"
      ],
      "execution_count": null,
      "outputs": [
        {
          "output_type": "stream",
          "text": [
            "openjdk version \"11.0.11\" 2021-04-20\n",
            "OpenJDK Runtime Environment (build 11.0.11+9-Ubuntu-0ubuntu2.18.04)\n",
            "OpenJDK 64-Bit Server VM (build 11.0.11+9-Ubuntu-0ubuntu2.18.04, mixed mode, sharing)\n"
          ],
          "name": "stdout"
        }
      ]
    },
    {
      "cell_type": "code",
      "metadata": {
        "colab": {
          "base_uri": "https://localhost:8080/",
          "height": 524
        },
        "id": "wrhOC1R2p4iR",
        "outputId": "2e379a4d-a9cd-4147-ad0c-31a8460671b1"
      },
      "source": [
        "from owlready2 import *\n",
        "import owlready2\n",
        "\n",
        "onto = get_ontology(\"/content/drive/MyDrive/colab_data/MusicBands_populated_simple3.rdf\").load()\n",
        "sync_reasoner()\n",
        "\n",
        "onto_inferred = get_ontology(\"http://inferrences/\")\n",
        "onto_inferred.save(\"kek.nt\", format=\"ntriples\") "
      ],
      "execution_count": 90,
      "outputs": [
        {
          "output_type": "stream",
          "text": [
            "* Owlready2 * Running HermiT...\n",
            "    java -Xmx2000M -cp /usr/local/lib/python3.7/dist-packages/owlready2/hermit:/usr/local/lib/python3.7/dist-packages/owlready2/hermit/HermiT.jar org.semanticweb.HermiT.cli.CommandLine -c -O -D -I file:////tmp/tmp88eggf66\n"
          ],
          "name": "stderr"
        },
        {
          "output_type": "error",
          "ename": "OwlReadyInconsistentOntologyError",
          "evalue": "ignored",
          "traceback": [
            "\u001b[0;31m---------------------------------------------------------------------------\u001b[0m",
            "\u001b[0;31mCalledProcessError\u001b[0m                        Traceback (most recent call last)",
            "\u001b[0;32m/usr/local/lib/python3.7/dist-packages/owlready2/reasoning.py\u001b[0m in \u001b[0;36msync_reasoner_hermit\u001b[0;34m(x, infer_property_values, debug, keep_tmp_file)\u001b[0m\n\u001b[1;32m    140\u001b[0m     \u001b[0;32mtry\u001b[0m\u001b[0;34m:\u001b[0m\u001b[0;34m\u001b[0m\u001b[0;34m\u001b[0m\u001b[0m\n\u001b[0;32m--> 141\u001b[0;31m       \u001b[0moutput\u001b[0m \u001b[0;34m=\u001b[0m \u001b[0msubprocess\u001b[0m\u001b[0;34m.\u001b[0m\u001b[0mcheck_output\u001b[0m\u001b[0;34m(\u001b[0m\u001b[0mcommand\u001b[0m\u001b[0;34m,\u001b[0m \u001b[0mstderr\u001b[0m \u001b[0;34m=\u001b[0m \u001b[0msubprocess\u001b[0m\u001b[0;34m.\u001b[0m\u001b[0mSTDOUT\u001b[0m\u001b[0;34m,\u001b[0m \u001b[0;34m**\u001b[0m\u001b[0m_subprocess_kargs\u001b[0m\u001b[0;34m)\u001b[0m\u001b[0;34m\u001b[0m\u001b[0;34m\u001b[0m\u001b[0m\n\u001b[0m\u001b[1;32m    142\u001b[0m     \u001b[0;32mexcept\u001b[0m \u001b[0msubprocess\u001b[0m\u001b[0;34m.\u001b[0m\u001b[0mCalledProcessError\u001b[0m \u001b[0;32mas\u001b[0m \u001b[0me\u001b[0m\u001b[0;34m:\u001b[0m\u001b[0;34m\u001b[0m\u001b[0;34m\u001b[0m\u001b[0m\n",
            "\u001b[0;32m/usr/lib/python3.7/subprocess.py\u001b[0m in \u001b[0;36mcheck_output\u001b[0;34m(timeout, *popenargs, **kwargs)\u001b[0m\n\u001b[1;32m    410\u001b[0m     return run(*popenargs, stdout=PIPE, timeout=timeout, check=True,\n\u001b[0;32m--> 411\u001b[0;31m                **kwargs).stdout\n\u001b[0m\u001b[1;32m    412\u001b[0m \u001b[0;34m\u001b[0m\u001b[0m\n",
            "\u001b[0;32m/usr/lib/python3.7/subprocess.py\u001b[0m in \u001b[0;36mrun\u001b[0;34m(input, capture_output, timeout, check, *popenargs, **kwargs)\u001b[0m\n\u001b[1;32m    511\u001b[0m             raise CalledProcessError(retcode, process.args,\n\u001b[0;32m--> 512\u001b[0;31m                                      output=stdout, stderr=stderr)\n\u001b[0m\u001b[1;32m    513\u001b[0m     \u001b[0;32mreturn\u001b[0m \u001b[0mCompletedProcess\u001b[0m\u001b[0;34m(\u001b[0m\u001b[0mprocess\u001b[0m\u001b[0;34m.\u001b[0m\u001b[0margs\u001b[0m\u001b[0;34m,\u001b[0m \u001b[0mretcode\u001b[0m\u001b[0;34m,\u001b[0m \u001b[0mstdout\u001b[0m\u001b[0;34m,\u001b[0m \u001b[0mstderr\u001b[0m\u001b[0;34m)\u001b[0m\u001b[0;34m\u001b[0m\u001b[0;34m\u001b[0m\u001b[0m\n",
            "\u001b[0;31mCalledProcessError\u001b[0m: Command '['java', '-Xmx2000M', '-cp', '/usr/local/lib/python3.7/dist-packages/owlready2/hermit:/usr/local/lib/python3.7/dist-packages/owlready2/hermit/HermiT.jar', 'org.semanticweb.HermiT.cli.CommandLine', '-c', '-O', '-D', '-I', 'file:////tmp/tmp88eggf66']' returned non-zero exit status 1.",
            "\nDuring handling of the above exception, another exception occurred:\n",
            "\u001b[0;31mOwlReadyInconsistentOntologyError\u001b[0m         Traceback (most recent call last)",
            "\u001b[0;32m<ipython-input-90-af26f7ace08b>\u001b[0m in \u001b[0;36m<module>\u001b[0;34m()\u001b[0m\n\u001b[1;32m      3\u001b[0m \u001b[0;34m\u001b[0m\u001b[0m\n\u001b[1;32m      4\u001b[0m \u001b[0monto\u001b[0m \u001b[0;34m=\u001b[0m \u001b[0mget_ontology\u001b[0m\u001b[0;34m(\u001b[0m\u001b[0;34m\"/content/drive/MyDrive/colab_data/MusicBands_populated_simple3.rdf\"\u001b[0m\u001b[0;34m)\u001b[0m\u001b[0;34m.\u001b[0m\u001b[0mload\u001b[0m\u001b[0;34m(\u001b[0m\u001b[0;34m)\u001b[0m\u001b[0;34m\u001b[0m\u001b[0;34m\u001b[0m\u001b[0m\n\u001b[0;32m----> 5\u001b[0;31m \u001b[0msync_reasoner\u001b[0m\u001b[0;34m(\u001b[0m\u001b[0;34m)\u001b[0m\u001b[0;34m\u001b[0m\u001b[0;34m\u001b[0m\u001b[0m\n\u001b[0m\u001b[1;32m      6\u001b[0m \u001b[0;34m\u001b[0m\u001b[0m\n\u001b[1;32m      7\u001b[0m \u001b[0monto_inferred\u001b[0m \u001b[0;34m=\u001b[0m \u001b[0mget_ontology\u001b[0m\u001b[0;34m(\u001b[0m\u001b[0;34m\"http://inferrences/\"\u001b[0m\u001b[0;34m)\u001b[0m\u001b[0;34m\u001b[0m\u001b[0;34m\u001b[0m\u001b[0m\n",
            "\u001b[0;32m/usr/local/lib/python3.7/dist-packages/owlready2/reasoning.py\u001b[0m in \u001b[0;36msync_reasoner_hermit\u001b[0;34m(x, infer_property_values, debug, keep_tmp_file)\u001b[0m\n\u001b[1;32m    142\u001b[0m     \u001b[0;32mexcept\u001b[0m \u001b[0msubprocess\u001b[0m\u001b[0;34m.\u001b[0m\u001b[0mCalledProcessError\u001b[0m \u001b[0;32mas\u001b[0m \u001b[0me\u001b[0m\u001b[0;34m:\u001b[0m\u001b[0;34m\u001b[0m\u001b[0;34m\u001b[0m\u001b[0m\n\u001b[1;32m    143\u001b[0m       \u001b[0;32mif\u001b[0m \u001b[0;34m(\u001b[0m\u001b[0me\u001b[0m\u001b[0;34m.\u001b[0m\u001b[0mreturncode\u001b[0m \u001b[0;34m==\u001b[0m \u001b[0;36m1\u001b[0m\u001b[0;34m)\u001b[0m \u001b[0;32mand\u001b[0m \u001b[0;34m(\u001b[0m\u001b[0;34mb\"Inconsistent ontology\"\u001b[0m \u001b[0;32min\u001b[0m \u001b[0;34m(\u001b[0m\u001b[0me\u001b[0m\u001b[0;34m.\u001b[0m\u001b[0moutput\u001b[0m \u001b[0;32mor\u001b[0m \u001b[0;34mb\"\"\u001b[0m\u001b[0;34m)\u001b[0m\u001b[0;34m)\u001b[0m\u001b[0;34m:\u001b[0m\u001b[0;34m\u001b[0m\u001b[0;34m\u001b[0m\u001b[0m\n\u001b[0;32m--> 144\u001b[0;31m         \u001b[0;32mraise\u001b[0m \u001b[0mOwlReadyInconsistentOntologyError\u001b[0m\u001b[0;34m(\u001b[0m\u001b[0;34m)\u001b[0m\u001b[0;34m\u001b[0m\u001b[0;34m\u001b[0m\u001b[0m\n\u001b[0m\u001b[1;32m    145\u001b[0m       \u001b[0;32melse\u001b[0m\u001b[0;34m:\u001b[0m\u001b[0;34m\u001b[0m\u001b[0;34m\u001b[0m\u001b[0m\n\u001b[1;32m    146\u001b[0m         \u001b[0;32mraise\u001b[0m \u001b[0mOwlReadyJavaError\u001b[0m\u001b[0;34m(\u001b[0m\u001b[0;34m\"Java error message is:\\n%s\"\u001b[0m \u001b[0;34m%\u001b[0m \u001b[0;34m(\u001b[0m\u001b[0me\u001b[0m\u001b[0;34m.\u001b[0m\u001b[0mstderr\u001b[0m \u001b[0;32mor\u001b[0m \u001b[0me\u001b[0m\u001b[0;34m.\u001b[0m\u001b[0moutput\u001b[0m \u001b[0;32mor\u001b[0m \u001b[0;34mb\"\"\u001b[0m\u001b[0;34m)\u001b[0m\u001b[0;34m.\u001b[0m\u001b[0mdecode\u001b[0m\u001b[0;34m(\u001b[0m\u001b[0;34m\"utf8\"\u001b[0m\u001b[0;34m)\u001b[0m\u001b[0;34m)\u001b[0m\u001b[0;34m\u001b[0m\u001b[0;34m\u001b[0m\u001b[0m\n",
            "\u001b[0;31mOwlReadyInconsistentOntologyError\u001b[0m: "
          ]
        }
      ]
    },
    {
      "cell_type": "code",
      "metadata": {
        "colab": {
          "base_uri": "https://localhost:8080/"
        },
        "id": "JnqN7GkRq8o6",
        "outputId": "ab21e8d7-afce-4dc1-dd05-325666ab6965"
      },
      "source": [
        "list(onto."
      ],
      "execution_count": 6,
      "outputs": [
        {
          "output_type": "execute_result",
          "data": {
            "text/plain": [
              "[MusicBands_populated_simple.bornIn,\n",
              " MusicBands_populated_simple.countryOfOrigin,\n",
              " MusicBands_populated_simple.hasDeserved,\n",
              " MusicBands_populated_simple.hasGenre,\n",
              " MusicBands_populated_simple.hasMember,\n",
              " MusicBands_populated_simple.playedIn,\n",
              " MusicBands_populated_simple.speaksIn]"
            ]
          },
          "metadata": {
            "tags": []
          },
          "execution_count": 6
        }
      ]
    },
    {
      "cell_type": "code",
      "metadata": {
        "id": "2-yDoSYo-oVC"
      },
      "source": [
        "with onto:\n",
        "     class Group(onto.MusicalGroup):\n",
        "         def take(self): print(\"group\")\n",
        "\n",
        "     class Genre(onto.MusicalGenre):\n",
        "         pass\n",
        "\n",
        "     class has_genre(Group >> Genre):\n",
        "         python_name = \"genres\"\n",
        "\n",
        "     class SingleGenreGroup(Group):\n",
        "         equivalent_to = [Group & has_genre.exactly(1, Genre)]\n",
        "         def take(self): print(\"multi genre group\")\n",
        "\n",
        "     class MultiGenreGroup(Group):\n",
        "         equivalent_to = [Drug & has_genre.exactly(1, Genre)]\n",
        "         def take(self): print(\"single genre group\")"
      ],
      "execution_count": null,
      "outputs": []
    },
    {
      "cell_type": "code",
      "metadata": {
        "id": "IRvjQ6VpIVd0"
      },
      "source": [
        ""
      ],
      "execution_count": null,
      "outputs": []
    },
    {
      "cell_type": "code",
      "metadata": {
        "colab": {
          "base_uri": "https://localhost:8080/",
          "height": 374
        },
        "id": "yEUOEfx0EC0X",
        "outputId": "2111e28c-6d26-467c-8950-110337879f15"
      },
      "source": [
        "class SingleGenreGroup(onto.MusicalGroup):\n",
        "   equivalent_to = [\n",
        "     onto.MusicalGroup\n",
        "   & ( restriction(\"has_genre\", SOME, onto.MusicalGenre)\n",
        "     ) ]\n",
        "   def eat(self): print(\"single genre group!\")"
      ],
      "execution_count": null,
      "outputs": [
        {
          "output_type": "error",
          "ename": "NameError",
          "evalue": "ignored",
          "traceback": [
            "\u001b[0;31m---------------------------------------------------------------------------\u001b[0m",
            "\u001b[0;31mNameError\u001b[0m                                 Traceback (most recent call last)",
            "\u001b[0;32m<ipython-input-7-4a865e4e2e5c>\u001b[0m in \u001b[0;36m<module>\u001b[0;34m()\u001b[0m\n\u001b[0;32m----> 1\u001b[0;31m \u001b[0;32mclass\u001b[0m \u001b[0mSingleGenreGroup\u001b[0m\u001b[0;34m(\u001b[0m\u001b[0monto\u001b[0m\u001b[0;34m.\u001b[0m\u001b[0mMusicalGroup\u001b[0m\u001b[0;34m)\u001b[0m\u001b[0;34m:\u001b[0m\u001b[0;34m\u001b[0m\u001b[0;34m\u001b[0m\u001b[0m\n\u001b[0m\u001b[1;32m      2\u001b[0m    equivalent_to = [\n\u001b[1;32m      3\u001b[0m      \u001b[0monto\u001b[0m\u001b[0;34m.\u001b[0m\u001b[0mMusicalGroup\u001b[0m\u001b[0;34m\u001b[0m\u001b[0;34m\u001b[0m\u001b[0m\n\u001b[1;32m      4\u001b[0m    & ( restriction(\"has_genre\", SOME, onto.MusicalGenre)\n\u001b[1;32m      5\u001b[0m      ) ]\n",
            "\u001b[0;32m<ipython-input-7-4a865e4e2e5c>\u001b[0m in \u001b[0;36mSingleGenreGroup\u001b[0;34m()\u001b[0m\n\u001b[1;32m      2\u001b[0m    equivalent_to = [\n\u001b[1;32m      3\u001b[0m      \u001b[0monto\u001b[0m\u001b[0;34m.\u001b[0m\u001b[0mMusicalGroup\u001b[0m\u001b[0;34m\u001b[0m\u001b[0;34m\u001b[0m\u001b[0m\n\u001b[0;32m----> 4\u001b[0;31m    & ( restriction(\"has_genre\", SOME, onto.MusicalGenre)\n\u001b[0m\u001b[1;32m      5\u001b[0m      ) ]\n\u001b[1;32m      6\u001b[0m    \u001b[0;32mdef\u001b[0m \u001b[0meat\u001b[0m\u001b[0;34m(\u001b[0m\u001b[0mself\u001b[0m\u001b[0;34m)\u001b[0m\u001b[0;34m:\u001b[0m \u001b[0mprint\u001b[0m\u001b[0;34m(\u001b[0m\u001b[0;34m\"single genre group!\"\u001b[0m\u001b[0;34m)\u001b[0m\u001b[0;34m\u001b[0m\u001b[0;34m\u001b[0m\u001b[0m\n",
            "\u001b[0;31mNameError\u001b[0m: name 'restriction' is not defined"
          ]
        }
      ]
    },
    {
      "cell_type": "code",
      "metadata": {
        "id": "FUlLtRH4Gljq"
      },
      "source": [
        " from owlready2 import *\n",
        "\n",
        " onto = get_ontology(\"http://test.org/onto.owl\")\n",
        "\n",
        " with onto:\n",
        "     class Drug(Thing):\n",
        "         def take(self): print(\"I took a drug\")\n",
        "\n",
        "     class ActivePrinciple(Thing):\n",
        "         pass\n",
        "\n",
        "     class has_for_active_principle(Drug >> ActivePrinciple):\n",
        "         python_name = \"active_principles\"\n",
        "\n",
        "     class Placebo(Drug):\n",
        "         equivalent_to = [Drug & Not(has_for_active_principle.some(ActivePrinciple))]\n",
        "         def take(self): print(\"I took a placebo\")\n",
        "     class SingleActivePrincipleDrug(Drug):\n",
        "         equivalent_to = [Drug & has_for_active_principle.exactly(1, ActivePrinciple)]\n",
        "         def take(self): print(\"I took a drug with a single active principle\")\n",
        "\n",
        "     class DrugAssociation(Drug):\n",
        "         equivalent_to = [Drug & has_for_active_principle.min(2, ActivePrinciple)]\n",
        "         def take(self): print(\"I took a drug with %s active principles\" % len(self.active_principles))\n",
        "\n",
        "acetaminophen   = ActivePrinciple(\"acetaminophen\")\n",
        "amoxicillin     = ActivePrinciple(\"amoxicillin\")\n",
        "clavulanic_acid = ActivePrinciple(\"clavulanic_acid\")\n",
        "\n",
        "AllDifferent([acetaminophen, amoxicillin, clavulanic_acid])\n",
        "\n",
        "drug1 = Drug(active_principles = [acetaminophen])\n",
        "drug2 = Drug(active_principles = [amoxicillin, clavulanic_acid])\n",
        "drug3 = Drug(active_principles = [])\n",
        "close_world(Drug)"
      ],
      "execution_count": null,
      "outputs": []
    },
    {
      "cell_type": "markdown",
      "metadata": {
        "id": "Pkb4CZkGVmtK"
      },
      "source": [
        "# VoID\n"
      ]
    },
    {
      "cell_type": "code",
      "metadata": {
        "id": "kB6XQJ0WVp8Z"
      },
      "source": [
        "from rdflib import URIRef, Graph, Literal\n",
        "from rdflib.namespace import VOID, RDF\n",
        "from rdflib.void import generateVoID\n",
        "\n",
        "\n",
        "graph = generateVoID(graph)"
      ],
      "execution_count": 57,
      "outputs": []
    },
    {
      "cell_type": "markdown",
      "metadata": {
        "id": "czUM8nhF4rv4"
      },
      "source": [
        ""
      ]
    }
  ]
}